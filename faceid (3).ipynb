{
 "cells": [
  {
   "cell_type": "code",
   "execution_count": null,
   "id": "031d52ab",
   "metadata": {},
   "outputs": [],
   "source": [
    "import requests\n",
    "\n",
    "# Replace with your Facecheck API Key\n",
    "API_KEY = 'your_facecheck_api_key'\n",
    "BASE_URL = 'https://api.facecheck.com'\n",
    "\n",
    "def get_player_stats(facecheck_id):\n",
    "    url = f\"{BASE_URL}/player/stats\"\n",
    "    headers = {\n",
    "        'Authorization': f\"Bearer {API_KEY}\",\n",
    "        'Content-Type': 'application/json'\n",
    "    }\n",
    "    params = {\n",
    "        'facecheck_id': facecheck_id\n",
    "    }\n",
    "    \n",
    "    response = requests.get(url, headers=headers, params=params)\n",
    "    \n",
    "    if response.status_code == 200:\n",
    "        return response.json()\n",
    "    else:\n",
    "        return {'error': response.status_code, 'message': response.text}\n",
    "\n",
    "def main():\n",
    "    facecheck_id = input(\"Enter the Facecheck ID: \")\n",
    "    stats = get_player_stats(facecheck_id)\n",
    "    \n",
    "    if 'error' in stats:\n",
    "        print(f\"Error: {stats['message']}\")\n",
    "    else:\n",
    "        print(f\"Stats for {facecheck_id}:\")\n",
    "        # Assuming the response contains 'stats' key with relevant data\n",
    "        for key, value in stats['stats'].items():\n",
    "            print(f\"{key}: {value}\")\n",
    "\n",
    "if __name__ == \"__main__\":\n",
    "    main()\n"
   ]
  },
  {
   "cell_type": "code",
   "execution_count": null,
   "id": "65a0658d",
   "metadata": {},
   "outputs": [],
   "source": []
  },
  {
   "cell_type": "code",
   "execution_count": null,
   "id": "ecae140b",
   "metadata": {},
   "outputs": [],
   "source": []
  }
 ],
 "metadata": {
  "kernelspec": {
   "display_name": "Python 3 (ipykernel)",
   "language": "python",
   "name": "python3"
  },
  "language_info": {
   "codemirror_mode": {
    "name": "ipython",
    "version": 3
   },
   "file_extension": ".py",
   "mimetype": "text/x-python",
   "name": "python",
   "nbconvert_exporter": "python",
   "pygments_lexer": "ipython3",
   "version": "3.10.9"
  }
 },
 "nbformat": 4,
 "nbformat_minor": 5
}
